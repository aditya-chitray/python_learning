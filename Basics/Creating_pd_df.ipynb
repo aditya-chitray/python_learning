{
 "cells": [
  {
   "cell_type": "markdown",
   "id": "c3c55baa",
   "metadata": {},
   "source": [
    "### Importing modules"
   ]
  },
  {
   "cell_type": "code",
   "execution_count": null,
   "id": "68f1ac9c",
   "metadata": {},
   "outputs": [],
   "source": [
    "import pandas as pd\n",
    "import numpy as np"
   ]
  },
  {
   "cell_type": "markdown",
   "id": "efc5e7a5",
   "metadata": {},
   "source": [
    "#### Creating empty dataframe"
   ]
  },
  {
   "cell_type": "code",
   "execution_count": 2,
   "id": "5b474102",
   "metadata": {},
   "outputs": [
    {
     "name": "stdout",
     "output_type": "stream",
     "text": [
      "Empty DataFrame\n",
      "Columns: []\n",
      "Index: []\n"
     ]
    }
   ],
   "source": [
    "df = pd.DataFrame()\n",
    "print(df)"
   ]
  },
  {
   "cell_type": "markdown",
   "id": "17fdb70d",
   "metadata": {},
   "source": [
    "#### DataFrame from list"
   ]
  },
  {
   "cell_type": "code",
   "execution_count": 3,
   "id": "19745bff",
   "metadata": {},
   "outputs": [
    {
     "name": "stdout",
     "output_type": "stream",
     "text": [
      "       0\n",
      "0  Geeks\n",
      "1    for\n",
      "2  Geeks\n",
      "3     is\n",
      "4    for\n",
      "5  Geeks\n"
     ]
    }
   ],
   "source": [
    "lst = ['Geeks','for','Geeks','is','for','Geeks']\n",
    "df = pd.DataFrame(lst)\n",
    "print(df)"
   ]
  },
  {
   "cell_type": "markdown",
   "id": "cdda86e7",
   "metadata": {},
   "source": [
    "#### DataFrame from array"
   ]
  },
  {
   "cell_type": "code",
   "execution_count": 5,
   "id": "bcab5a27",
   "metadata": {},
   "outputs": [
    {
     "name": "stdout",
     "output_type": "stream",
     "text": [
      "   A  B  C\n",
      "0  1  2  3\n",
      "1  4  5  6\n",
      "2  7  8  9\n"
     ]
    }
   ],
   "source": [
    "data = np.array([[1,2,3],[4,5,6],[7,8,9]])\n",
    "df = pd.DataFrame(data, columns=['A','B','C'])\n",
    "print(df)"
   ]
  },
  {
   "cell_type": "markdown",
   "id": "3cec837b",
   "metadata": {},
   "source": [
    "#### Creating DataFrame from dictionary"
   ]
  },
  {
   "cell_type": "code",
   "execution_count": 11,
   "id": "1b93d6d1",
   "metadata": {},
   "outputs": [
    {
     "name": "stdout",
     "output_type": "stream",
     "text": [
      "    name program  grade\n",
      "0   John     MBA    9.0\n",
      "1   Mary   MTech    8.7\n",
      "2  Allen     BCA    6.5\n",
      "3   Josh     MSc   10.0\n"
     ]
    }
   ],
   "source": [
    "data = {'name':['John','Mary','Allen','Josh'],\n",
    "        'program':['MBA','MTech','BCA','MSc'],\n",
    "        'grade':[9.0,8.7,6.5,10.0]\n",
    "        }\n",
    "\n",
    "df = pd.DataFrame(data)\n",
    "print(df)"
   ]
  },
  {
   "cell_type": "code",
   "execution_count": null,
   "id": "08641c64",
   "metadata": {},
   "outputs": [],
   "source": []
  }
 ],
 "metadata": {
  "kernelspec": {
   "display_name": "Python 3",
   "language": "python",
   "name": "python3"
  },
  "language_info": {
   "codemirror_mode": {
    "name": "ipython",
    "version": 3
   },
   "file_extension": ".py",
   "mimetype": "text/x-python",
   "name": "python",
   "nbconvert_exporter": "python",
   "pygments_lexer": "ipython3",
   "version": "3.13.7"
  }
 },
 "nbformat": 4,
 "nbformat_minor": 5
}
