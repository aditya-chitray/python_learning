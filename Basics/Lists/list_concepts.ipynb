{
 "cells": [
  {
   "cell_type": "code",
   "execution_count": 1,
   "id": "6143d538",
   "metadata": {},
   "outputs": [],
   "source": [
    "colors = [\"Red\", \"Green\", \"Blue\", \"Yellow\", \"Green\"]"
   ]
  },
  {
   "cell_type": "markdown",
   "id": "228c021f",
   "metadata": {},
   "source": [
    "#### Selection of elements"
   ]
  },
  {
   "cell_type": "code",
   "execution_count": null,
   "id": "8c477f64",
   "metadata": {},
   "outputs": [
    {
     "name": "stdout",
     "output_type": "stream",
     "text": [
      "Red\n",
      "Green\n",
      "R\n"
     ]
    }
   ],
   "source": [
    "print(colors[0]) #selecting element\n",
    "print(colors[1])\n",
    "type(colors[0])\n",
    "print(colors[0][0]) # selecting element of an element\n"
   ]
  },
  {
   "cell_type": "markdown",
   "id": "45f6aa7b",
   "metadata": {},
   "source": [
    "#### checking for element in if else statement"
   ]
  },
  {
   "cell_type": "code",
   "execution_count": 8,
   "id": "c8798b49",
   "metadata": {},
   "outputs": [
    {
     "name": "stdout",
     "output_type": "stream",
     "text": [
      "Yes color Yellow present\n"
     ]
    }
   ],
   "source": [
    "if \"Yellow\" in colors:\n",
    "    print(\"Yes color {} present\".format(\"Yellow\"))\n",
    "else:\n",
    "    print(\"not present\")"
   ]
  },
  {
   "cell_type": "markdown",
   "id": "3619099e",
   "metadata": {},
   "source": [
    "### selecting multiple elements"
   ]
  },
  {
   "cell_type": "code",
   "execution_count": 9,
   "id": "953e45d2",
   "metadata": {},
   "outputs": [
    {
     "name": "stdout",
     "output_type": "stream",
     "text": [
      "['Red', 'Green', 'Blue', 'Yellow', 'Green']\n",
      "['Red', 'Green', 'Blue']\n",
      "['Green', 'Blue', 'Yellow', 'Green']\n"
     ]
    }
   ],
   "source": [
    "print(colors)\n",
    "print(colors[0:3])\n",
    "print(colors[-4:])"
   ]
  },
  {
   "cell_type": "code",
   "execution_count": 10,
   "id": "64714bd1",
   "metadata": {},
   "outputs": [
    {
     "name": "stdout",
     "output_type": "stream",
     "text": [
      "['dog', 'pig', 'goat']\n"
     ]
    }
   ],
   "source": [
    "animals = [\"cat\", \"dog\", \"bat\", \"mouse\", \"pig\", \"horse\", \"donkey\", \"goat\", \"cow\"]\n",
    "print(animals[1:8:3])"
   ]
  },
  {
   "cell_type": "markdown",
   "id": "f341d80e",
   "metadata": {},
   "source": [
    "#### Append, Insert and Extend"
   ]
  },
  {
   "cell_type": "code",
   "execution_count": 12,
   "id": "19648976",
   "metadata": {},
   "outputs": [],
   "source": [
    "animals.extend(colors)"
   ]
  },
  {
   "cell_type": "code",
   "execution_count": 13,
   "id": "0bb83726",
   "metadata": {},
   "outputs": [
    {
     "name": "stdout",
     "output_type": "stream",
     "text": [
      "['cat', 'dog', 'bat', 'mouse', 'pig', 'horse', 'donkey', 'goat', 'cow', 'Red', 'Green', 'Blue', 'Yellow', 'Green', 'Red', 'Green', 'Blue', 'Yellow', 'Green']\n"
     ]
    }
   ],
   "source": [
    "print(animals)"
   ]
  },
  {
   "cell_type": "markdown",
   "id": "f129638f",
   "metadata": {},
   "source": [
    "### pop(), remove(), del, clear()\n",
    "pop(): removes element at the end\\\n",
    "remove(): removes element at specific point\\\n",
    "del deletes specific element or entire list\\\n",
    "clear(): clears all elements of the list and retains the list\n",
    "\n"
   ]
  }
 ],
 "metadata": {
  "kernelspec": {
   "display_name": "Python 3",
   "language": "python",
   "name": "python3"
  },
  "language_info": {
   "codemirror_mode": {
    "name": "ipython",
    "version": 3
   },
   "file_extension": ".py",
   "mimetype": "text/x-python",
   "name": "python",
   "nbconvert_exporter": "python",
   "pygments_lexer": "ipython3",
   "version": "3.13.7"
  }
 },
 "nbformat": 4,
 "nbformat_minor": 5
}
